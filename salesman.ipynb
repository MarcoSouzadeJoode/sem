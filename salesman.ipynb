{
 "cells": [
  {
   "cell_type": "code",
   "execution_count": 144,
   "metadata": {},
   "outputs": [],
   "source": [
    "import numpy as np\n",
    "import matplotlib.pyplot as plt\n",
    "from matplotlib import collections  as mc"
   ]
  },
  {
   "cell_type": "code",
   "execution_count": 134,
   "metadata": {},
   "outputs": [],
   "source": [
    "N = 10\n",
    "DIM = 2"
   ]
  },
  {
   "cell_type": "code",
   "execution_count": 135,
   "metadata": {},
   "outputs": [
    {
     "data": {
      "text/plain": [
       "array([[0.5488135 , 0.71518937],\n",
       "       [0.60276338, 0.54488318],\n",
       "       [0.4236548 , 0.64589411],\n",
       "       [0.43758721, 0.891773  ],\n",
       "       [0.96366276, 0.38344152],\n",
       "       [0.79172504, 0.52889492],\n",
       "       [0.56804456, 0.92559664],\n",
       "       [0.07103606, 0.0871293 ],\n",
       "       [0.0202184 , 0.83261985],\n",
       "       [0.77815675, 0.87001215]])"
      ]
     },
     "execution_count": 135,
     "metadata": {},
     "output_type": "execute_result"
    }
   ],
   "source": [
    "np.random.seed(0)\n",
    "pts = np.random.random((N,DIM))\n",
    "pts"
   ]
  },
  {
   "cell_type": "code",
   "execution_count": 136,
   "metadata": {},
   "outputs": [
    {
     "data": {
      "text/plain": [
       "<matplotlib.collections.PathCollection at 0x7f90c51a71d0>"
      ]
     },
     "execution_count": 136,
     "metadata": {},
     "output_type": "execute_result"
    },
    {
     "data": {
      "image/png": "[encoded data removed]",
      "text/plain": [
       "<Figure size 432x288 with 1 Axes>"
      ]
     },
     "metadata": {
      "needs_background": "light"
     },
     "output_type": "display_data"
    }
   ],
   "source": [
    "X, Y = pts.T\n",
    "plt.scatter(X,Y)"
   ]
  },
  {
   "cell_type": "code",
   "execution_count": 137,
   "metadata": {},
   "outputs": [],
   "source": [
    "def euc_dist(p1, p2):\n",
    "    return np.sqrt( (p2[0]-p1[0])**2 + (p2[1]-p1[1])**2 )"
   ]
  },
  {
   "cell_type": "code",
   "execution_count": null,
   "metadata": {},
   "outputs": [],
   "source": []
  },
  {
   "cell_type": "code",
   "execution_count": 138,
   "metadata": {},
   "outputs": [
    {
     "data": {
      "text/plain": [
       "<matplotlib.image.AxesImage at 0x7f90c58f5b00>"
      ]
     },
     "execution_count": 138,
     "metadata": {},
     "output_type": "execute_result"
    },
    {
     "data": {
      "image/png": "[encoded data removed]",
      "text/plain": [
       "<Figure size 432x288 with 1 Axes>"
      ]
     },
     "metadata": {
      "needs_background": "light"
     },
     "output_type": "display_data"
    }
   ],
   "source": [
    "\n",
    "distances = np.zeros((N,N))\n",
    "\n",
    "for i, p1 in enumerate(pts):\n",
    "    for j,p2 in enumerate(pts):\n",
    "        distances[i, j] = euc_dist(p1, p2)\n",
    "\n",
    "plt.imshow(distances)"
   ]
  },
  {
   "cell_type": "code",
   "execution_count": 139,
   "metadata": {},
   "outputs": [
    {
     "data": {
      "text/plain": [
       "array([[0, 2, 1, 3, 6, 9, 5, 4, 8, 7],\n",
       "       [1, 0, 5, 2, 9, 6, 3, 4, 8, 7],\n",
       "       [2, 0, 1, 3, 6, 5, 9, 8, 4, 7],\n",
       "       [3, 6, 0, 2, 9, 1, 8, 5, 4, 7],\n",
       "       [4, 5, 1, 9, 0, 2, 6, 3, 7, 8],\n",
       "       [5, 1, 4, 0, 9, 2, 6, 3, 8, 7],\n",
       "       [6, 3, 0, 9, 2, 1, 5, 8, 4, 7],\n",
       "       [7, 2, 1, 8, 0, 5, 3, 4, 6, 9],\n",
       "       [8, 3, 2, 0, 6, 1, 7, 9, 5, 4],\n",
       "       [9, 6, 0, 3, 5, 1, 2, 4, 8, 7]], dtype=int8)"
      ]
     },
     "execution_count": 139,
     "metadata": {},
     "output_type": "execute_result"
    }
   ],
   "source": [
    "sorted_distance_idx = np.zeros((N,N), dtype=\"int8\")\n",
    "\n",
    "visited = []\n",
    "for i, p1 in enumerate(pts):\n",
    "    sorted_distance_idx[i] = np.argsort(distances[i])\n",
    "\n",
    "sorted_distance_idx"
   ]
  },
  {
   "cell_type": "code",
   "execution_count": 140,
   "metadata": {},
   "outputs": [
    {
     "data": {
      "image/png": "[encoded data removed]",
      "text/plain": [
       "<Figure size 432x288 with 1 Axes>"
      ]
     },
     "metadata": {
      "needs_background": "light"
     },
     "output_type": "display_data"
    }
   ],
   "source": [
    "plt.scatter(X,Y)\n",
    "for i, pt in enumerate(pts):\n",
    "    plt.text(pt[0], pt[1], i, fontsize=25)\n",
    "\n",
    "plt.show()"
   ]
  },
  {
   "cell_type": "code",
   "execution_count": 153,
   "metadata": {},
   "outputs": [
    {
     "name": "stdout",
     "output_type": "stream",
     "text": [
      "[5, 1, 0, 2, 3, 6, 9, 4, 7, 8]\n"
     ]
    }
   ],
   "source": [
    "visited = []\n",
    "start = 5\n",
    "current = start\n",
    "while len(visited) != N:\n",
    "    visited.append(current)\n",
    "    for pt in sorted_distance_idx[current]:\n",
    "        if pt not in visited:\n",
    "            current = pt\n",
    "            break\n",
    "\n",
    "print(visited)\n",
    "    "
   ]
  },
  {
   "cell_type": "code",
   "execution_count": 154,
   "metadata": {},
   "outputs": [
    {
     "name": "stdout",
     "output_type": "stream",
     "text": [
      "(9, 2, 2)\n",
      "[[[0.79172504 0.52889492]\n",
      "  [0.60276338 0.54488318]]\n",
      "\n",
      " [[0.60276338 0.54488318]\n",
      "  [0.5488135  0.71518937]]\n",
      "\n",
      " [[0.5488135  0.71518937]\n",
      "  [0.4236548  0.64589411]]\n",
      "\n",
      " [[0.4236548  0.64589411]\n",
      "  [0.43758721 0.891773  ]]\n",
      "\n",
      " [[0.43758721 0.891773  ]\n",
      "  [0.56804456 0.92559664]]\n",
      "\n",
      " [[0.56804456 0.92559664]\n",
      "  [0.77815675 0.87001215]]\n",
      "\n",
      " [[0.77815675 0.87001215]\n",
      "  [0.96366276 0.38344152]]\n",
      "\n",
      " [[0.96366276 0.38344152]\n",
      "  [0.07103606 0.0871293 ]]\n",
      "\n",
      " [[0.07103606 0.0871293 ]\n",
      "  [0.0202184  0.83261985]]]\n"
     ]
    },
    {
     "data": {
      "image/png": "[encoded data removed]",
      "text/plain": [
       "<Figure size 432x288 with 1 Axes>"
      ]
     },
     "metadata": {
      "needs_background": "light"
     },
     "output_type": "display_data"
    }
   ],
   "source": [
    "def plotlines(visited):\n",
    "    pairs=[]\n",
    "    for i in range(N-1):\n",
    "        pair = (pts[visited[i]], pts[visited[i+1]])\n",
    "        pairs.append(pair)\n",
    "    return np.array(pairs)\n",
    "\n",
    "\n",
    "lines = plotlines(visited)\n",
    "print(lines.shape)\n",
    "print(lines)\n",
    "\n",
    "lc = mc.LineCollection(lines, color=\"r\", linewidths=2)\n",
    "fig, ax = plt.subplots()\n",
    "ax.add_collection(lc)\n",
    "plt.scatter(X,Y)\n",
    "for i, pt in enumerate(pts):\n",
    "    plt.text(pt[0], pt[1], i, fontsize=25)\n",
    "\n",
    "plt.show()"
   ]
  }
 ],
 "metadata": {
  "kernelspec": {
   "display_name": "Python 3",
   "language": "python",
   "name": "python3"
  },
  "language_info": {
   "codemirror_mode": {
    "name": "ipython",
    "version": 3
   },
   "file_extension": ".py",
   "mimetype": "text/x-python",
   "name": "python",
   "nbconvert_exporter": "python",
   "pygments_lexer": "ipython3",
   "version": "3.6.9"
  }
 },
 "nbformat": 4,
 "nbformat_minor": 2
}
