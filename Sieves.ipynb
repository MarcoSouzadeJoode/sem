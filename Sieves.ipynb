{
 "cells": [
  {
   "cell_type": "code",
   "execution_count": 109,
   "metadata": {},
   "outputs": [],
   "source": [
    "from timeit import repeat\n",
    "import numpy as np\n",
    "import matplotlib.pyplot as plt\n",
    "from collections import deque"
   ]
  },
  {
   "cell_type": "code",
   "execution_count": 116,
   "metadata": {},
   "outputs": [],
   "source": [
    "def sundaram_naive_boolean(n):\n",
    "    m = n//2\n",
    "    L = [True] * n\n",
    "    \n",
    "    for i in range(1, m):\n",
    "        L[2*i] = False\n",
    "        for j in range(1, m):\n",
    "            U = i + j + 2*i*j\n",
    "            if U < m:\n",
    "                L[2*U+1] = False\n",
    "\n",
    "    L[0], L[1] = False, False\n",
    "    L[2] = True\n",
    "    return np.array([i for i, l in enumerate(L) if l])"
   ]
  },
  {
   "cell_type": "code",
   "execution_count": 117,
   "metadata": {},
   "outputs": [
    {
     "data": {
      "text/plain": [
       "array([ 2,  3,  5,  7, 11, 13, 17, 19, 23, 29, 31, 37, 41, 43, 47, 53, 59,\n",
       "       61, 67, 71, 73, 79, 83, 89, 97])"
      ]
     },
     "execution_count": 117,
     "metadata": {},
     "output_type": "execute_result"
    }
   ],
   "source": [
    "sundaram_naive_boolean(100)"
   ]
  },
  {
   "cell_type": "code",
   "execution_count": 112,
   "metadata": {},
   "outputs": [],
   "source": [
    "def sundaram_naive_set(n):\n",
    "    m = n // 2\n",
    "    L = {l for l in range(1,m)}\n",
    "    for i in range(1,m):\n",
    "        for j in range(i,m):\n",
    "            U = i + j + 2*i*j\n",
    "            if U < m:\n",
    "                L.discard(U)\n",
    "    primes = deque([2*l+1 for l in L])\n",
    "    primes.extendleft([2])\n",
    "    return np.array(primes)"
   ]
  },
  {
   "cell_type": "code",
   "execution_count": 122,
   "metadata": {},
   "outputs": [],
   "source": [
    "def sundaram_optimized_set(n):\n",
    "    m = n // 2\n",
    "    L = {l for l in range(1,m)}\n",
    "    for i in range(1,m):\n",
    "        limit = (m-i)//(2*i+1)\n",
    "        for j in range(i, limit+1):\n",
    "            U = i + j + 2*i*j\n",
    "            L.discard(U)\n",
    "    primes = deque([2*l+1 for l in L])\n",
    "    primes.extendleft([2])\n",
    "    return np.array(primes)"
   ]
  },
  {
   "cell_type": "code",
   "execution_count": 125,
   "metadata": {},
   "outputs": [
    {
     "data": {
      "text/plain": [
       "array([      2,       3,       5, ..., 9999971, 9999973, 9999991])"
      ]
     },
     "execution_count": 125,
     "metadata": {},
     "output_type": "execute_result"
    }
   ],
   "source": []
  },
  {
   "cell_type": "code",
   "execution_count": 119,
   "metadata": {},
   "outputs": [],
   "source": [
    "def sundaram_optimized_boolean(n):\n",
    "    m = n//2\n",
    "    L = [True] * n\n",
    "    \n",
    "    for i in range(1, m):\n",
    "        L[2*i] = False\n",
    "        limit = (m-i)//(2*i+1)\n",
    "        for j in range(i, limit+1):\n",
    "            U = i + j + 2*i*j\n",
    "            if U < m:\n",
    "                L[2*U+1] = False\n",
    "\n",
    "    L[0], L[1], L[2] = False, False, True\n",
    "    return np.array([i for i, l in enumerate(L) if l])"
   ]
  },
  {
   "cell_type": "code",
   "execution_count": 120,
   "metadata": {},
   "outputs": [
    {
     "data": {
      "text/plain": [
       "array([     2,      3,      5, ..., 999961, 999979, 999983])"
      ]
     },
     "execution_count": 120,
     "metadata": {},
     "output_type": "execute_result"
    }
   ],
   "source": [
    "sundaram_optimized_boolean(1000000)"
   ]
  }
 ],
 "metadata": {
  "kernelspec": {
   "display_name": "Python 3",
   "language": "python",
   "name": "python3"
  },
  "language_info": {
   "codemirror_mode": {
    "name": "ipython",
    "version": 3
   },
   "file_extension": ".py",
   "mimetype": "text/x-python",
   "name": "python",
   "nbconvert_exporter": "python",
   "pygments_lexer": "ipython3",
   "version": "3.6.9"
  }
 },
 "nbformat": 4,
 "nbformat_minor": 2
}
