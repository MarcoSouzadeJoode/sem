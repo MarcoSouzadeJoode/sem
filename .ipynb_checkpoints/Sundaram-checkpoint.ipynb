{
 "cells": [
  {
   "cell_type": "code",
   "execution_count": 42,
   "metadata": {},
   "outputs": [],
   "source": [
    "import numpy as np\n",
    "N = 10**6\n"
   ]
  },
  {
   "cell_type": "code",
   "execution_count": 49,
   "metadata": {},
   "outputs": [],
   "source": [
    "def Sundaram(n):\n",
    "    primes = []\n",
    "    k = (n - 2) // 2\n",
    "    integers_list = [True] * (k+1)\n",
    "    for i in range(1, k + 1):\n",
    "        j = i\n",
    "        while i + j + 2 * i * j <= k:\n",
    "            integers_list[i + j + 2 * i * j] = False\n",
    "            j += 1\n",
    "    if n > 2:\n",
    "        primes.append(2)\n",
    "    for i in range(1, k + 1):\n",
    "        if integers_list[i]:\n",
    "            primes.append(2 * i + 1)\n",
    "    return np.array(primes)"
   ]
  },
  {
   "cell_type": "code",
   "execution_count": 54,
   "metadata": {},
   "outputs": [
    {
     "data": {
      "text/plain": [
       "array([      2,       3,       5, ..., 9999971, 9999973, 9999991])"
      ]
     },
     "execution_count": 54,
     "metadata": {},
     "output_type": "execute_result"
    }
   ],
   "source": [
    "sieve_of_Sundaram(10000000)"
   ]
  }
 ],
 "metadata": {
  "kernelspec": {
   "display_name": "Python 2",
   "language": "python",
   "name": "python2"
  },
  "language_info": {
   "codemirror_mode": {
    "name": "ipython",
    "version": 2
   },
   "file_extension": ".py",
   "mimetype": "text/x-python",
   "name": "python",
   "nbconvert_exporter": "python",
   "pygments_lexer": "ipython2",
   "version": "2.7.17"
  }
 },
 "nbformat": 4,
 "nbformat_minor": 2
}
