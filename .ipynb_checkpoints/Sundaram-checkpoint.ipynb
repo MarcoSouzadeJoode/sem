{
 "cells": [
  {
   "cell_type": "code",
   "execution_count": 22,
   "metadata": {},
   "outputs": [],
   "source": [
    "import numpy as np\n",
    "N = 10**6\n",
    "s = [1,7,11,13,17,19,23,29,31,37,41,43,47,49,53,59]"
   ]
  },
  {
   "cell_type": "code",
   "execution_count": 23,
   "metadata": {},
   "outputs": [
    {
     "ename": "SyntaxError",
     "evalue": "invalid syntax (<ipython-input-23-d63a69d00877>, line 10)",
     "output_type": "error",
     "traceback": [
      "\u001b[0;36m  File \u001b[0;32m\"<ipython-input-23-d63a69d00877>\"\u001b[0;36m, line \u001b[0;32m10\u001b[0m\n\u001b[0;31m    print(2 , end = \" \")\u001b[0m\n\u001b[0m                  ^\u001b[0m\n\u001b[0;31mSyntaxError\u001b[0m\u001b[0;31m:\u001b[0m invalid syntax\n"
     ]
    }
   ],
   "source": [
    "# Python 3 program for\n",
    "# implementation of\n",
    "# Sieve of Atkin\n",
    "\n",
    "def SieveOfAtkin(limit):\n",
    "\n",
    "\t# 2 and 3 are known\n",
    "\t# to be prime\n",
    "\tif (limit > 2):\n",
    "\t\tprint(2)\n",
    "\tif (limit > 3):\n",
    "\t\tprint(3)\n",
    "\n",
    "\t# Initialise the sieve\n",
    "\t# array with False values\n",
    "\tsieve = [False] * (limit+1)\n",
    "\tfor i in range( 0 , limit ):\n",
    "\t\tsieve[i] = False\n",
    "\t\t\n",
    "\t'''Mark siev[n] is True if\n",
    "\tone of the following is True:\n",
    "\ta) n = (4*x*x)+(y*y) has odd\n",
    "\tnumber of solutions, i.e.,\n",
    "\tthere exist odd number of\n",
    "\tdistinct pairs (x, y) that\n",
    "\tsatisfy the equation and\n",
    "\tn % 12 = 1 or n % 12 = 5.\n",
    "\tb) n = (3*x*x)+(y*y) has\n",
    "\todd number of solutions\n",
    "\tand n % 12 = 7\n",
    "\tc) n = (3*x*x)-(y*y) has\n",
    "\todd number of solutions,\n",
    "\tx > y and n % 12 = 11 '''\n",
    "\tx = 1\n",
    "\twhile(x * x < limit ) :\n",
    "\t\ty = 1\n",
    "\t\twhile(y * y < limit ) :\n",
    "\t\t\t\n",
    "\t\t\t# Main part of\n",
    "\t\t\t# Sieve of Atkin\n",
    "\t\t\tn = (4 * x * x) + (y * y)\n",
    "\t\t\tif (n <= limit and (n % 12 == 1 or\n",
    "\t\t\t\t\t\t\t\tn % 12 == 5)):\n",
    "\t\t\t\tsieve[n] ^= True\n",
    "\n",
    "\t\t\tn = (3 * x * x) + (y * y)\n",
    "\t\t\tif (n <= limit and n % 12 == 7):\n",
    "\t\t\t\tsieve[n] ^= True\n",
    "\n",
    "\t\t\tn = (3 * x * x) - (y * y)\n",
    "\t\t\tif (x > y and n <= limit and\n",
    "\t\t\t\t\t\tn % 12 == 11):\n",
    "\t\t\t\tsieve[n] ^= True\n",
    "\t\t\ty += 1\n",
    "\t\tx += 1\n",
    "\t\n",
    "\t# Mark all multiples of\n",
    "\t# squares as non-prime\n",
    "\tr = 5\n",
    "\twhile(r * r < limit) :\n",
    "\t\tif (sieve[r]) :\n",
    "\t\t\tfor i in range(r * r, limit, r * r):\n",
    "\t\t\t\tsieve[i] = False\n",
    "\t\t\n",
    "\t# Print primes\n",
    "\t# using sieve[]\n",
    "\tfor a in range(5 , limit +1):\n",
    "\t\tif (sieve[a]):\n",
    "\t\t\tprint(a)\n",
    "\n",
    "# Driver Code\n",
    "limit = 17\n",
    "SieveOfAtkin(limit)\n",
    "\n",
    "# This code is contributed\n",
    "# by Smitha"
   ]
  },
  {
   "cell_type": "code",
   "execution_count": 21,
   "metadata": {},
   "outputs": [
    {
     "name": "stdout",
     "output_type": "stream",
     "text": [
      "2\n",
      "3\n",
      "[False, False, False, False, False, False, False, False, False, False]\n",
      "1\n",
      "1\n",
      "2\n",
      "3\n",
      "2\n",
      "1\n",
      "2\n",
      "3\n",
      "3\n",
      "1\n",
      "2\n",
      "3\n",
      "5\n",
      "7\n"
     ]
    }
   ],
   "source": []
  }
 ],
 "metadata": {
  "kernelspec": {
   "display_name": "Python 2",
   "language": "python",
   "name": "python2"
  },
  "language_info": {
   "codemirror_mode": {
    "name": "ipython",
    "version": 2
   },
   "file_extension": ".py",
   "mimetype": "text/x-python",
   "name": "python",
   "nbconvert_exporter": "python",
   "pygments_lexer": "ipython2",
   "version": "2.7.17"
  }
 },
 "nbformat": 4,
 "nbformat_minor": 2
}
