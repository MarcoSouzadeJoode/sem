{
 "cells": [
  {
   "cell_type": "code",
   "execution_count": 25,
   "metadata": {},
   "outputs": [],
   "source": [
    "from timeit import repeat\n",
    "import numpy as np\n",
    "import matplotlib.pyplot as plt"
   ]
  },
  {
   "cell_type": "code",
   "execution_count": 21,
   "metadata": {},
   "outputs": [],
   "source": [
    "def sundaram(n):\n",
    "    primes = []\n",
    "    k = (n - 2) // 2\n",
    "    integers_list = [True] * (k+1)\n",
    "    for i in range(1, k + 1):\n",
    "        j = i\n",
    "        while i + j + 2 * i * j <= k:\n",
    "            integers_list[i + j + 2 * i * j] = False\n",
    "            j += 1\n",
    "    if n > 2:\n",
    "        primes.append(2)\n",
    "    for i in range(1, k + 1):\n",
    "        if integers_list[i]:\n",
    "            primes.append(2 * i + 1)\n",
    "    return np.array(primes)"
   ]
  },
  {
   "cell_type": "code",
   "execution_count": 33,
   "metadata": {},
   "outputs": [
    {
     "data": {
      "text/plain": [
       "array([ 2,  3,  5,  7, 11, 13, 17, 19, 23, 29, 31, 37, 41, 43, 47, 53, 59,\n",
       "       61, 67, 71, 73, 79, 83, 89, 97])"
      ]
     },
     "execution_count": 33,
     "metadata": {},
     "output_type": "execute_result"
    }
   ],
   "source": [
    "def eratosthenes(n):\n",
    "    multiples = []\n",
    "    primes = []\n",
    "    for i in range(2, n+1):\n",
    "        if i not in multiples:\n",
    "            primes.append(i)\n",
    "            for j in range(i*i, n+1, i):\n",
    "                multiples.append(j)\n",
    "    return np.array(primes)"
   ]
  },
  {
   "cell_type": "code",
   "execution_count": 29,
   "metadata": {},
   "outputs": [
    {
     "data": {
      "text/plain": [
       "<matplotlib.collections.PathCollection at 0x7fe70e0cb208>"
      ]
     },
     "execution_count": 29,
     "metadata": {},
     "output_type": "execute_result"
    },
    {
     "data": {
      "image/png": "[encoded data removed]",
      "text/plain": [
       "<Figure size 432x288 with 1 Axes>"
      ]
     },
     "metadata": {
      "needs_background": "light"
     },
     "output_type": "display_data"
    }
   ],
   "source": [
    "Ns = np.linspace(1, 10**5, 100, dtype=\"int64\")\n",
    "Er = []\n",
    "\n",
    "for N in Ns:\n",
    "    command = f\"sundaram({N})\"\n",
    "    time = min(repeat(command, number=1, repeat=3, globals=globals()))\n",
    "    times.append(time)\n",
    "    \n",
    "plt.scatter(Ns, times)"
   ]
  }
 ],
 "metadata": {
  "kernelspec": {
   "display_name": "Python 3",
   "language": "python",
   "name": "python3"
  },
  "language_info": {
   "codemirror_mode": {
    "name": "ipython",
    "version": 3
   },
   "file_extension": ".py",
   "mimetype": "text/x-python",
   "name": "python",
   "nbconvert_exporter": "python",
   "pygments_lexer": "ipython3",
   "version": "3.6.9"
  }
 },
 "nbformat": 4,
 "nbformat_minor": 2
}
