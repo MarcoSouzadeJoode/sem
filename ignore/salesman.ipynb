{
 "cells": [
  {
   "cell_type": "code",
   "execution_count": 1,
   "metadata": {},
   "outputs": [],
   "source": [
    "import numpy as np\n",
    "import matplotlib.pyplot as plt\n",
    "from matplotlib import collections  as mc"
   ]
  },
  {
   "cell_type": "code",
   "execution_count": 2,
   "metadata": {},
   "outputs": [],
   "source": [
    "N = 10\n",
    "DIM = 2"
   ]
  },
  {
   "cell_type": "code",
   "execution_count": 3,
   "metadata": {},
   "outputs": [
    {
     "data": {
      "text/plain": [
       "array([[0.5488135 , 0.71518937],\n",
       "       [0.60276338, 0.54488318],\n",
       "       [0.4236548 , 0.64589411],\n",
       "       [0.43758721, 0.891773  ],\n",
       "       [0.96366276, 0.38344152],\n",
       "       [0.79172504, 0.52889492],\n",
       "       [0.56804456, 0.92559664],\n",
       "       [0.07103606, 0.0871293 ],\n",
       "       [0.0202184 , 0.83261985],\n",
       "       [0.77815675, 0.87001215]])"
      ]
     },
     "execution_count": 3,
     "metadata": {},
     "output_type": "execute_result"
    }
   ],
   "source": [
    "np.random.seed(0)\n",
    "pts = np.random.random((N,DIM))\n",
    "pts"
   ]
  },
  {
   "cell_type": "code",
   "execution_count": 4,
   "metadata": {},
   "outputs": [
    {
     "data": {
      "text/plain": [
       "<matplotlib.collections.PathCollection at 0x7f3672dc71d0>"
      ]
     },
     "execution_count": 4,
     "metadata": {},
     "output_type": "execute_result"
    },
    {
     "data": {
      "image/png": "[encoded data removed]",
      "text/plain": [
       "<Figure size 432x288 with 1 Axes>"
      ]
     },
     "metadata": {
      "needs_background": "light"
     },
     "output_type": "display_data"
    }
   ],
   "source": [
    "X, Y = pts.T\n",
    "plt.scatter(X,Y)"
   ]
  },
  {
   "cell_type": "code",
   "execution_count": 5,
   "metadata": {},
   "outputs": [],
   "source": [
    "def euc_dist(p1, p2):\n",
    "    return np.sqrt( (p2[0]-p1[0])**2 + (p2[1]-p1[1])**2 )"
   ]
  },
  {
   "cell_type": "code",
   "execution_count": null,
   "metadata": {},
   "outputs": [],
   "source": []
  },
  {
   "cell_type": "code",
   "execution_count": 6,
   "metadata": {},
   "outputs": [
    {
     "data": {
      "text/plain": [
       "<matplotlib.image.AxesImage at 0x7f363910c278>"
      ]
     },
     "execution_count": 6,
     "metadata": {},
     "output_type": "execute_result"
    },
    {
     "data": {
      "image/png": "[encoded data removed]",
      "text/plain": [
       "<Figure size 432x288 with 1 Axes>"
      ]
     },
     "metadata": {
      "needs_background": "light"
     },
     "output_type": "display_data"
    }
   ],
   "source": [
    "\n",
    "distances = np.zeros((N,N))\n",
    "\n",
    "for i, p1 in enumerate(pts):\n",
    "    for j,p2 in enumerate(pts):\n",
    "        distances[i, j] = euc_dist(p1, p2)\n",
    "\n",
    "plt.imshow(distances)"
   ]
  },
  {
   "cell_type": "code",
   "execution_count": 7,
   "metadata": {},
   "outputs": [
    {
     "data": {
      "text/plain": [
       "array([[0, 2, 1, 3, 6, 9, 5, 4, 8, 7],\n",
       "       [1, 0, 5, 2, 9, 6, 3, 4, 8, 7],\n",
       "       [2, 0, 1, 3, 6, 5, 9, 8, 4, 7],\n",
       "       [3, 6, 0, 2, 9, 1, 8, 5, 4, 7],\n",
       "       [4, 5, 1, 9, 0, 2, 6, 3, 7, 8],\n",
       "       [5, 1, 4, 0, 9, 2, 6, 3, 8, 7],\n",
       "       [6, 3, 0, 9, 2, 1, 5, 8, 4, 7],\n",
       "       [7, 2, 1, 8, 0, 5, 3, 4, 6, 9],\n",
       "       [8, 3, 2, 0, 6, 1, 7, 9, 5, 4],\n",
       "       [9, 6, 0, 3, 5, 1, 2, 4, 8, 7]], dtype=int8)"
      ]
     },
     "execution_count": 7,
     "metadata": {},
     "output_type": "execute_result"
    }
   ],
   "source": [
    "sorted_distance_idx = np.zeros((N,N), dtype=\"int8\")\n",
    "\n",
    "visited = []\n",
    "for i, p1 in enumerate(pts):\n",
    "    sorted_distance_idx[i] = np.argsort(distances[i])\n",
    "\n",
    "sorted_distance_idx"
   ]
  },
  {
   "cell_type": "code",
   "execution_count": 8,
   "metadata": {},
   "outputs": [
    {
     "data": {
      "image/png": "[encoded data removed]",
      "text/plain": [
       "<Figure size 432x288 with 1 Axes>"
      ]
     },
     "metadata": {
      "needs_background": "light"
     },
     "output_type": "display_data"
    }
   ],
   "source": [
    "plt.scatter(X,Y)\n",
    "for i, pt in enumerate(pts):\n",
    "    plt.text(pt[0], pt[1], i, fontsize=25)\n",
    "\n",
    "plt.show()"
   ]
  },
  {
   "cell_type": "code",
   "execution_count": 9,
   "metadata": {},
   "outputs": [
    {
     "name": "stdout",
     "output_type": "stream",
     "text": [
      "[7, 2, 0, 1, 5, 4, 9, 6, 3, 8]\n"
     ]
    }
   ],
   "source": [
    "visited = []\n",
    "start = 7\n",
    "current = start\n",
    "while len(visited) != N:\n",
    "    visited.append(current)\n",
    "    for pt in sorted_distance_idx[current]:\n",
    "        if pt not in visited:\n",
    "            current = pt\n",
    "            break\n",
    "\n",
    "print(visited)\n",
    "    "
   ]
  },
  {
   "cell_type": "code",
   "execution_count": 10,
   "metadata": {},
   "outputs": [
    {
     "data": {
      "image/png": "[encoded data removed]",
      "text/plain": [
       "<Figure size 432x288 with 1 Axes>"
      ]
     },
     "metadata": {
      "needs_background": "light"
     },
     "output_type": "display_data"
    }
   ],
   "source": [
    "def plotlines(visited):\n",
    "    pairs=[]\n",
    "    for i in range(N-1):\n",
    "        pair = (pts[visited[i]], pts[visited[i+1]])\n",
    "        pairs.append(pair)\n",
    "    pairs.append((pts[visited[0]], pts[visited[-1]]))\n",
    "    return np.array(pairs)\n",
    "\n",
    "\n",
    "pairs = plotlines(visited)\n",
    "\n",
    "lc = mc.LineCollection(pairs, color=\"r\", linewidths=2)\n",
    "fig, ax = plt.subplots()\n",
    "ax.add_collection(lc)\n",
    "plt.scatter(X,Y)\n",
    "for i, pt in enumerate(pts):\n",
    "    plt.text(pt[0], pt[1], i, fontsize=25)\n",
    "\n",
    "plt.show()"
   ]
  },
  {
   "cell_type": "code",
   "execution_count": 11,
   "metadata": {},
   "outputs": [
    {
     "data": {
      "text/plain": [
       "3.4388850126686448"
      ]
     },
     "execution_count": 11,
     "metadata": {},
     "output_type": "execute_result"
    }
   ],
   "source": [
    "tot_dist = 0\n",
    "for pair in pairs:\n",
    "    tot_dist += euc_dist(*pair)\n",
    "tot_dist"
   ]
  },
  {
   "cell_type": "code",
   "execution_count": 12,
   "metadata": {},
   "outputs": [],
   "source": [
    "def distance(start, sorted_distance_idx):\n",
    "    visited = []\n",
    "    current = start\n",
    "    while len(visited) != N:\n",
    "        visited.append(current)\n",
    "        for pt in sorted_distance_idx[current]:\n",
    "            if pt not in visited:\n",
    "                current = pt\n",
    "                break\n",
    "    pairs=[]\n",
    "    for i in range(N-1):\n",
    "        pair = (pts[visited[i]], pts[visited[i+1]])\n",
    "        pairs.append(pair)\n",
    "    pairs.append((pts[visited[0]], pts[visited[-1]]))\n",
    "    pairs = np.array(pairs)\n",
    "    tot_dist = 0\n",
    "    for pair in pairs:\n",
    "        tot_dist += euc_dist(*pair)\n",
    "    return pairs, tot_dist"
   ]
  },
  {
   "cell_type": "code",
   "execution_count": 13,
   "metadata": {},
   "outputs": [
    {
     "data": {
      "text/plain": [
       "Text(0.5, 1.0, 'Total distance: 3.439 \\n Best starting point: 2')"
      ]
     },
     "execution_count": 13,
     "metadata": {},
     "output_type": "execute_result"
    },
    {
     "data": {
      "image/png": "[encoded data removed]",
      "text/plain": [
       "<Figure size 432x288 with 1 Axes>"
      ]
     },
     "metadata": {
      "needs_background": "light"
     },
     "output_type": "display_data"
    }
   ],
   "source": [
    "best_start = [np.inf, 0]\n",
    "for start in range(N):\n",
    "    dist = distance(start, sorted_distance_idx)[1]\n",
    "    if dist < best_start[0]:\n",
    "        best_start[0] = dist\n",
    "        best_start[1] = start\n",
    "\n",
    "\n",
    "pairs = distance(best_start[1], sorted_distance_idx)        \n",
    "\n",
    "lc = mc.LineCollection(pairs[0], color=\"r\", linewidths=2)\n",
    "fig, ax = plt.subplots()\n",
    "ax.add_collection(lc)\n",
    "plt.scatter(X,Y)\n",
    "plt.title(f\"Total distance: {pairs[1]:.3f} \\n Best starting point: {best_start[1]}\", fontsize=20)\n",
    "#for i, pt in enumerate(pts):\n",
    "#    plt.text(pt[0], pt[1], i, fontsize=20)\n"
   ]
  }
 ],
 "metadata": {
  "kernelspec": {
   "display_name": "Python 3",
   "language": "python",
   "name": "python3"
  },
  "language_info": {
   "codemirror_mode": {
    "name": "ipython",
    "version": 3
   },
   "file_extension": ".py",
   "mimetype": "text/x-python",
   "name": "python",
   "nbconvert_exporter": "python",
   "pygments_lexer": "ipython3",
   "version": "3.6.9"
  }
 },
 "nbformat": 4,
 "nbformat_minor": 2
}
