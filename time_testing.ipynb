{
 "cells": [
  {
   "cell_type": "code",
   "execution_count": 1,
   "metadata": {},
   "outputs": [],
   "source": [
    "from timeit import repeat\n",
    "import numpy as np\n",
    "import matplotlib.pyplot as plt"
   ]
  },
  {
   "cell_type": "code",
   "execution_count": 2,
   "metadata": {},
   "outputs": [],
   "source": [
    "def sundaram(n):\n",
    "    primes = []\n",
    "    k = (n - 2) // 2\n",
    "    integers_list = [True] * (k+1)\n",
    "    for i in range(1, k + 1):\n",
    "        j = i\n",
    "        while i + j + 2 * i * j <= k:\n",
    "            integers_list[i + j + 2 * i * j] = False\n",
    "            j += 1\n",
    "    if n > 2:\n",
    "        primes.append(2)\n",
    "    for i in range(1, k + 1):\n",
    "        if integers_list[i]:\n",
    "            primes.append(2 * i + 1)\n",
    "    return np.array(primes)"
   ]
  },
  {
   "cell_type": "code",
   "execution_count": 3,
   "metadata": {},
   "outputs": [],
   "source": [
    "def eratosthenes(n):\n",
    "    multiples = []\n",
    "    primes = []\n",
    "    for i in range(2, n+1):\n",
    "        if i not in multiples:\n",
    "            primes.append(i)\n",
    "            for j in range(i*i, n+1, i):\n",
    "                multiples.append(j)\n",
    "    return np.array(primes)"
   ]
  },
  {
   "cell_type": "code",
   "execution_count": 9,
   "metadata": {},
   "outputs": [
    {
     "data": {
      "text/plain": [
       "Text(0.5, 0, 'N')"
      ]
     },
     "execution_count": 9,
     "metadata": {},
     "output_type": "execute_result"
    },
    {
     "data": {
      "image/png": "[encoded data removed]",
      "text/plain": [
       "<Figure size 432x288 with 1 Axes>"
      ]
     },
     "metadata": {
      "needs_background": "light"
     },
     "output_type": "display_data"
    }
   ],
   "source": [
    "Ns = np.linspace(1, 2*10**2, 50, dtype=\"int64\")\n",
    "Er = []\n",
    "Sun = []\n",
    "for N in Ns:\n",
    "    sund = f\"sundaram({N})\"\n",
    "    erat = f\"eratosthenes({N})\"\n",
    "    Er.append(min(repeat(erat, number=1, repeat=100, globals=globals())))\n",
    "    Sun.append(min(repeat(sund, number=1, repeat=100, globals=globals())))\n",
    "\n",
    "Er = np.array(Er)\n",
    "Sun = np.array(Sun)\n",
    "plt.scatter(Ns, Er/1000.0)\n",
    "plt.scatter(Ns, Sun/1000.0)\n",
    "plt.ylabel(\"T (ms)\", fontsize=15)\n",
    "plt.xlabel(\"N\", fontsize=15)\n"
   ]
  },
  {
   "cell_type": "code",
   "execution_count": 5,
   "metadata": {
    "scrolled": false
   },
   "outputs": [
    {
     "data": {
      "text/plain": [
       "<matplotlib.image.AxesImage at 0x7f2307ea0a90>"
      ]
     },
     "execution_count": 5,
     "metadata": {},
     "output_type": "execute_result"
    },
    {
     "data": {
      "image/png": "[encoded data removed]",
      "text/plain": [
       "<Figure size 432x288 with 1 Axes>"
      ]
     },
     "metadata": {
      "needs_background": "light"
     },
     "output_type": "display_data"
    }
   ],
   "source": [
    "def colorin(n, primes):\n",
    "    ar = np.zeros(n, dtype=\"int8\")\n",
    "    ar[primes] = 1\n",
    "    return ar\n",
    "\n",
    "n = 24\n",
    "ar = colorin(n**2, sundaram(n**2))\n",
    "A = ar.reshape((n,n))\n",
    "\n",
    "plt.imshow(A)"
   ]
  }
 ],
 "metadata": {
  "kernelspec": {
   "display_name": "Python 3",
   "language": "python",
   "name": "python3"
  },
  "language_info": {
   "codemirror_mode": {
    "name": "ipython",
    "version": 3
   },
   "file_extension": ".py",
   "mimetype": "text/x-python",
   "name": "python",
   "nbconvert_exporter": "python",
   "pygments_lexer": "ipython3",
   "version": "3.6.9"
  }
 },
 "nbformat": 4,
 "nbformat_minor": 2
}
