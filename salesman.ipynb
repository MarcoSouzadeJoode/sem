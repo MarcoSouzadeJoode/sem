{
 "cells": [
  {
   "cell_type": "code",
   "execution_count": 39,
   "metadata": {},
   "outputs": [],
   "source": [
    "import numpy as np\n",
    "import matplotlib.pyplot as plt"
   ]
  },
  {
   "cell_type": "code",
   "execution_count": 40,
   "metadata": {},
   "outputs": [],
   "source": [
    "N = 50\n",
    "DIM = 2"
   ]
  },
  {
   "cell_type": "code",
   "execution_count": 41,
   "metadata": {},
   "outputs": [
    {
     "data": {
      "text/plain": [
       "array([[0.45015093, 0.69689943],\n",
       "       [0.4347226 , 0.53727628],\n",
       "       [0.21939301, 0.26925719],\n",
       "       [0.02047434, 0.6359369 ],\n",
       "       [0.1966621 , 0.43737662],\n",
       "       [0.12935001, 0.537145  ],\n",
       "       [0.07910988, 0.78789868],\n",
       "       [0.77434013, 0.05345008],\n",
       "       [0.58559222, 0.36896152],\n",
       "       [0.23776629, 0.30603881],\n",
       "       [0.17090143, 0.38270455],\n",
       "       [0.7548749 , 0.82179183],\n",
       "       [0.43403655, 0.31979041],\n",
       "       [0.34496685, 0.92742768],\n",
       "       [0.58752949, 0.79556066],\n",
       "       [0.2820486 , 0.61226029],\n",
       "       [0.03329919, 0.10272064],\n",
       "       [0.30310308, 0.75212702],\n",
       "       [0.73841638, 0.88023074],\n",
       "       [0.9968087 , 0.84471336],\n",
       "       [0.2469907 , 0.47361911],\n",
       "       [0.91140229, 0.2880709 ],\n",
       "       [0.39021387, 0.64906414],\n",
       "       [0.90134217, 0.39568652],\n",
       "       [0.89948676, 0.65213333],\n",
       "       [0.55076785, 0.06420163],\n",
       "       [0.480979  , 0.58790757],\n",
       "       [0.13715448, 0.34000232],\n",
       "       [0.62456649, 0.50216227],\n",
       "       [0.15634707, 0.17975667],\n",
       "       [0.29764587, 0.19792976],\n",
       "       [0.15672473, 0.97558755],\n",
       "       [0.04878505, 0.90649182],\n",
       "       [0.76953335, 0.35799575],\n",
       "       [0.1421907 , 0.87049941],\n",
       "       [0.38408289, 0.57170001],\n",
       "       [0.46694971, 0.7189405 ],\n",
       "       [0.64044159, 0.20953883],\n",
       "       [0.71076338, 0.84864305],\n",
       "       [0.63785751, 0.35825357],\n",
       "       [0.70482089, 0.63982248],\n",
       "       [0.11746983, 0.39872466],\n",
       "       [0.15707858, 0.25007121],\n",
       "       [0.21694005, 0.88145918],\n",
       "       [0.50732631, 0.14154302],\n",
       "       [0.81654945, 0.91276831],\n",
       "       [0.6046014 , 0.55729095],\n",
       "       [0.72269417, 0.68579795],\n",
       "       [0.12032029, 0.66738519],\n",
       "       [0.99325556, 0.80878219]])"
      ]
     },
     "execution_count": 41,
     "metadata": {},
     "output_type": "execute_result"
    }
   ],
   "source": [
    "pts = np.random.random((N,DIM))\n",
    "pts"
   ]
  },
  {
   "cell_type": "code",
   "execution_count": 42,
   "metadata": {},
   "outputs": [
    {
     "data": {
      "text/plain": [
       "<matplotlib.collections.PathCollection at 0x7f90c58bdc88>"
      ]
     },
     "execution_count": 42,
     "metadata": {},
     "output_type": "execute_result"
    },
    {
     "data": {
      "image/png": "[encoded data removed]",
      "text/plain": [
       "<Figure size 432x288 with 1 Axes>"
      ]
     },
     "metadata": {
      "needs_background": "light"
     },
     "output_type": "display_data"
    }
   ],
   "source": [
    "X, Y = pts.T\n",
    "plt.scatter(X,Y)"
   ]
  },
  {
   "cell_type": "code",
   "execution_count": 43,
   "metadata": {},
   "outputs": [],
   "source": [
    "def euc_dist(p1, p2):\n",
    "    return np.sqrt( (p2[0]-p1[0])**2 + (p2[1]-p1[1])**2 )"
   ]
  },
  {
   "cell_type": "code",
   "execution_count": null,
   "metadata": {},
   "outputs": [],
   "source": []
  },
  {
   "cell_type": "code",
   "execution_count": 49,
   "metadata": {},
   "outputs": [
    {
     "data": {
      "text/plain": [
       "<matplotlib.image.AxesImage at 0x7f90c57d37f0>"
      ]
     },
     "execution_count": 49,
     "metadata": {},
     "output_type": "execute_result"
    },
    {
     "data": {
      "image/png": "[encoded data removed]",
      "text/plain": [
       "<Figure size 432x288 with 1 Axes>"
      ]
     },
     "metadata": {
      "needs_background": "light"
     },
     "output_type": "display_data"
    }
   ],
   "source": [
    "visited = set()\n",
    "\n",
    "distances = np.zeros((N,N))\n",
    "\n",
    "for i, p1 in enumerate(pts):\n",
    "    for j,p2 in enumerate(pts):\n",
    "        distances[i, j] = euc_dist(p1, p2)\n",
    "\n",
    "plt.imshow(distances)"
   ]
  }
 ],
 "metadata": {
  "kernelspec": {
   "display_name": "Python 3",
   "language": "python",
   "name": "python3"
  },
  "language_info": {
   "codemirror_mode": {
    "name": "ipython",
    "version": 3
   },
   "file_extension": ".py",
   "mimetype": "text/x-python",
   "name": "python",
   "nbconvert_exporter": "python",
   "pygments_lexer": "ipython3",
   "version": "3.6.9"
  }
 },
 "nbformat": 4,
 "nbformat_minor": 2
}
