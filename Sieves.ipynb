{
 "cells": [
  {
   "cell_type": "code",
   "execution_count": 1,
   "metadata": {},
   "outputs": [],
   "source": [
    "from timeit import repeat\n",
    "import numpy as np\n",
    "import matplotlib.pyplot as plt\n",
    "from collections import deque"
   ]
  },
  {
   "cell_type": "code",
   "execution_count": 36,
   "metadata": {},
   "outputs": [],
   "source": [
    "def eratosthenes(n):\n",
    "    multiples = []\n",
    "    primes = []\n",
    "    for i in range(2, n+1):\n",
    "        if i not in multiples:\n",
    "            primes.append(i)\n",
    "            for j in range(i*i, n+1, i):\n",
    "                multiples.append(j)\n",
    "    return np.array(primes)"
   ]
  },
  {
   "cell_type": "code",
   "execution_count": 53,
   "metadata": {},
   "outputs": [],
   "source": [
    "def eratosthenes_boolean(n):\n",
    "    L = np.ones((n,), dtype=\"bool\")\n",
    "    for i in range(2,n):\n",
    "        k = 2\n",
    "        while k*i < n:\n",
    "            L[k*i] = False\n",
    "            k += 1\n",
    "    L[0], L[1] = False, False\n",
    "    return np.array([i for i, l in enumerate(L) if l])\n",
    "            "
   ]
  },
  {
   "cell_type": "code",
   "execution_count": 72,
   "metadata": {},
   "outputs": [],
   "source": [
    "def eratosthenes_optimized(n):\n",
    "    primes = [i for i in range(2,n+1)]\n",
    "    for i in primes:\n",
    "        k = 2\n",
    "        while k*i <= n:\n",
    "            try:\n",
    "                primes.remove(k*i)\n",
    "            except ValueError:\n",
    "                pass\n",
    "            k+= 1\n",
    "    return primes"
   ]
  },
  {
   "cell_type": "code",
   "execution_count": 73,
   "metadata": {},
   "outputs": [
    {
     "data": {
      "text/plain": [
       "[2,\n",
       " 3,\n",
       " 5,\n",
       " 7,\n",
       " 11,\n",
       " 13,\n",
       " 17,\n",
       " 19,\n",
       " 23,\n",
       " 29,\n",
       " 31,\n",
       " 37,\n",
       " 41,\n",
       " 43,\n",
       " 47,\n",
       " 53,\n",
       " 59,\n",
       " 61,\n",
       " 67,\n",
       " 71,\n",
       " 73,\n",
       " 79,\n",
       " 83,\n",
       " 89,\n",
       " 97]"
      ]
     },
     "execution_count": 73,
     "metadata": {},
     "output_type": "execute_result"
    }
   ],
   "source": [
    "eratosthenes_optimized(100)"
   ]
  },
  {
   "cell_type": "code",
   "execution_count": 2,
   "metadata": {},
   "outputs": [],
   "source": [
    "def sundaram_naive_boolean(n):\n",
    "    m = n//2\n",
    "    L = [True] * n\n",
    "    \n",
    "    for i in range(1, m):\n",
    "        L[2*i] = False\n",
    "        for j in range(1, m):\n",
    "            U = i + j + 2*i*j\n",
    "            if U < m:\n",
    "                L[2*U+1] = False\n",
    "\n",
    "    L[0], L[1] = False, False\n",
    "    L[2] = True\n",
    "    return np.array([i for i, l in enumerate(L) if l])"
   ]
  },
  {
   "cell_type": "code",
   "execution_count": 3,
   "metadata": {},
   "outputs": [
    {
     "data": {
      "text/plain": [
       "array([ 2,  3,  5,  7, 11, 13, 17, 19, 23, 29, 31, 37, 41, 43, 47, 53, 59,\n",
       "       61, 67, 71, 73, 79, 83, 89, 97])"
      ]
     },
     "execution_count": 3,
     "metadata": {},
     "output_type": "execute_result"
    }
   ],
   "source": [
    "sundaram_naive_boolean(100)"
   ]
  },
  {
   "cell_type": "code",
   "execution_count": 4,
   "metadata": {},
   "outputs": [],
   "source": [
    "def sundaram_naive_set(n):\n",
    "    m = n // 2\n",
    "    L = {l for l in range(1,m)}\n",
    "    for i in range(1,m):\n",
    "        for j in range(i,m):\n",
    "            U = i + j + 2*i*j\n",
    "            if U < m:\n",
    "                L.discard(U)\n",
    "    primes = deque([2*l+1 for l in L])\n",
    "    primes.extendleft([2])\n",
    "    return np.array(primes)"
   ]
  },
  {
   "cell_type": "code",
   "execution_count": 5,
   "metadata": {},
   "outputs": [],
   "source": [
    "def sundaram_optimized_set(n):\n",
    "    m = n // 2\n",
    "    L = {l for l in range(1,m)}\n",
    "    for i in range(1,m):\n",
    "        limit = (m-i)//(2*i+1)\n",
    "        for j in range(i, limit+1):\n",
    "            U = i + j + 2*i*j\n",
    "            L.discard(U)\n",
    "    primes = deque([2*l+1 for l in L])\n",
    "    primes.extendleft([2])\n",
    "    return np.array(primes)"
   ]
  },
  {
   "cell_type": "code",
   "execution_count": null,
   "metadata": {},
   "outputs": [],
   "source": []
  },
  {
   "cell_type": "code",
   "execution_count": 6,
   "metadata": {},
   "outputs": [],
   "source": [
    "def sundaram_optimized_boolean(n):\n",
    "    m = n//2\n",
    "    L = [True] * n\n",
    "    \n",
    "    for i in range(1, m):\n",
    "        L[2*i] = False\n",
    "        limit = (m-i)//(2*i+1)\n",
    "        for j in range(i, limit+1):\n",
    "            U = i + j + 2*i*j\n",
    "            if U < m:\n",
    "                L[2*U+1] = False\n",
    "\n",
    "    L[0], L[1], L[2] = False, False, True\n",
    "    return np.array([i for i, l in enumerate(L) if l])"
   ]
  },
  {
   "cell_type": "code",
   "execution_count": 7,
   "metadata": {},
   "outputs": [
    {
     "data": {
      "text/plain": [
       "array([     2,      3,      5, ..., 999961, 999979, 999983])"
      ]
     },
     "execution_count": 7,
     "metadata": {},
     "output_type": "execute_result"
    }
   ],
   "source": [
    "sundaram_optimized_boolean(1000000)"
   ]
  }
 ],
 "metadata": {
  "kernelspec": {
   "display_name": "Python 3",
   "language": "python",
   "name": "python3"
  },
  "language_info": {
   "codemirror_mode": {
    "name": "ipython",
    "version": 3
   },
   "file_extension": ".py",
   "mimetype": "text/x-python",
   "name": "python",
   "nbconvert_exporter": "python",
   "pygments_lexer": "ipython3",
   "version": "3.6.9"
  }
 },
 "nbformat": 4,
 "nbformat_minor": 2
}
